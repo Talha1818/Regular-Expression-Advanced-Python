{
 "cells": [
  {
   "cell_type": "markdown",
   "id": "ba2e0fc6",
   "metadata": {},
   "source": [
    "# Regular Expression"
   ]
  },
  {
   "cell_type": "code",
   "execution_count": 1,
   "id": "aa2fd348",
   "metadata": {},
   "outputs": [],
   "source": [
    "import re"
   ]
  },
  {
   "cell_type": "code",
   "execution_count": 2,
   "id": "a29bd2ae",
   "metadata": {},
   "outputs": [
    {
     "data": {
      "text/plain": [
       "['923444300394', '(+42)-444-555']"
      ]
     },
     "execution_count": 2,
     "metadata": {},
     "output_type": "execute_result"
    }
   ],
   "source": [
    "text = '''\n",
    "hello phone no +923444300394\n",
    "second number is (+42)-444-555\n",
    "'''\n",
    "\n",
    "pattern = '\\(?.\\d{2}\\)-\\d{3}-\\d{3}|\\d{12}'\n",
    "\n",
    "matches = re.findall(pattern, text)\n",
    "matches"
   ]
  },
  {
   "cell_type": "code",
   "execution_count": 3,
   "id": "87e4a043",
   "metadata": {},
   "outputs": [
    {
     "data": {
      "text/plain": [
       "['dfdgfgd', 'sdffgds', 'fdgfh']"
      ]
     },
     "execution_count": 3,
     "metadata": {},
     "output_type": "execute_result"
    }
   ],
   "source": [
    "text2 = 'dfdgfgd;sdffgds,fdgfh'\n",
    "pattern1 = '[^;,]+' # * use inplace of + for all matches pattern spaces '' also\n",
    "matches1 = re.findall(pattern1, text2)\n",
    "matches1"
   ]
  },
  {
   "cell_type": "code",
   "execution_count": 4,
   "id": "ae9be32c",
   "metadata": {},
   "outputs": [
    {
     "data": {
      "text/plain": [
       "['Overview', 'Freelancing']"
      ]
     },
     "execution_count": 4,
     "metadata": {},
     "output_type": "execute_result"
    }
   ],
   "source": [
    "text = '''\n",
    "Note 1 - Overview\n",
    "fghjk\n",
    "dsfdf\n",
    "Note 2 - Freelancing\n",
    "\n",
    "'''\n",
    "\n",
    "pattern = 'Note \\d - ([^\\n]*)'\n",
    "matches = re.findall(pattern, text)\n",
    "matches"
   ]
  },
  {
   "cell_type": "code",
   "execution_count": 5,
   "id": "2793fedc",
   "metadata": {},
   "outputs": [
    {
     "data": {
      "text/plain": [
       "['2022 Q5', '2021 Q6']"
      ]
     },
     "execution_count": 5,
     "metadata": {},
     "output_type": "execute_result"
    }
   ],
   "source": [
    "text = '''\n",
    "Note 1 - Overview\n",
    "fghjk\n",
    "fy2022 Q5\n",
    "FY2021 Q6\n",
    "dsfdf\n",
    "Note 2 - Freelancing\n",
    "\n",
    "'''\n",
    "\n",
    "# pattern = 'FY\\d{4} Q[0-9]'\n",
    "pattern = 'FY(\\d{4} Q[0-9])'\n",
    "\n",
    "matches = re.findall(pattern, text, flags=re.IGNORECASE)\n",
    "matches"
   ]
  },
  {
   "cell_type": "code",
   "execution_count": 6,
   "id": "c1f4b892",
   "metadata": {},
   "outputs": [
    {
     "data": {
      "text/plain": [
       "['4.28', '3', '6']"
      ]
     },
     "execution_count": 6,
     "metadata": {},
     "output_type": "execute_result"
    }
   ],
   "source": [
    "text = '''\n",
    "Note 1 - Overview\n",
    "fghjk\n",
    "fy2022 Q5\n",
    "FY2021 Q6\n",
    "dsfdf\n",
    "$4.28\n",
    "$3\n",
    "$6\n",
    "Note 2 - Freelancing\n",
    "\n",
    "'''\n",
    "\n",
    "pattern = '\\$[\\d\\.]+'\n",
    "pattern = '\\$([\\d\\.]+)'\n",
    "\n",
    "\n",
    "matches = re.findall(pattern, text, flags=re.IGNORECASE)\n",
    "matches"
   ]
  },
  {
   "cell_type": "code",
   "execution_count": 7,
   "id": "99ed9ebf",
   "metadata": {},
   "outputs": [
    {
     "data": {
      "text/plain": [
       "[('2022 Q5', '4.28'), ('2021 Q6', '3'), ('2019 Q8', '6')]"
      ]
     },
     "execution_count": 7,
     "metadata": {},
     "output_type": "execute_result"
    }
   ],
   "source": [
    "text = '''\n",
    "Note 1 - Overview\n",
    "fghjk\n",
    "dfghj fy2022 Q5\n",
    "fghjk \n",
    "dsfdf\n",
    "fghjk $4.28\n",
    "fghjk FY2021 Q6 $3\n",
    "fghjk fy2019 Q8 $6\n",
    "Note 2 - Freelancing\n",
    "\n",
    "'''\n",
    "\n",
    "# pattern = 'FY\\d{4} Q[0-9][^\\$]|\\$[0-9\\.]+'\n",
    "pattern = 'FY(\\d{4} Q[0-9])[^\\$]+\\$([0-9\\.]+)'\n",
    "\n",
    "# pattern = '\\$([\\d\\.]+)'\n",
    "\n",
    "\n",
    "matches = re.findall(pattern, text, flags=re.IGNORECASE)\n",
    "matches"
   ]
  },
  {
   "cell_type": "code",
   "execution_count": 8,
   "id": "35ada4e7",
   "metadata": {},
   "outputs": [
    {
     "data": {
      "text/plain": [
       "<re.Match object; span=(31, 65), match='fy2022 Q5\\nfghjk \\ndsfdf\\nfghjk $4.28'>"
      ]
     },
     "execution_count": 8,
     "metadata": {},
     "output_type": "execute_result"
    }
   ],
   "source": [
    "matches = re.search(pattern, text, flags=re.IGNORECASE) # FIND 1ST OCCURENCE\n",
    "matches"
   ]
  },
  {
   "cell_type": "code",
   "execution_count": 9,
   "id": "9585a41e",
   "metadata": {},
   "outputs": [
    {
     "data": {
      "text/plain": [
       "('2022 Q5', '4.28')"
      ]
     },
     "execution_count": 9,
     "metadata": {},
     "output_type": "execute_result"
    }
   ],
   "source": [
    "matches.groups()"
   ]
  },
  {
   "cell_type": "markdown",
   "id": "3f208881",
   "metadata": {},
   "source": [
    "1. Extract all twitter handles from following text. Twitter handle is the text that appears after https://twitter.com/ and is a single word. Also it contains only alpha numeric characters i.e. A-Z a-z , o to 9 and underscore _"
   ]
  },
  {
   "cell_type": "code",
   "execution_count": 10,
   "id": "5b921d41",
   "metadata": {},
   "outputs": [
    {
     "data": {
      "text/plain": [
       "['https://twitter.com/elonmusk,',\n",
       " 'https://www.tesla.com/.',\n",
       " 'https://twitter.com/teslarati',\n",
       " 'https://twitter.com/dummy_tesla',\n",
       " 'https://twitter.com/dummy_2_tesla']"
      ]
     },
     "execution_count": 10,
     "metadata": {},
     "output_type": "execute_result"
    }
   ],
   "source": [
    "text = '''\n",
    "Follow our leader Elon musk on twitter here: https://twitter.com/elonmusk, more information \n",
    "on Tesla's products can be found at https://www.tesla.com/. Also here are leading influencers \n",
    "for tesla related news,\n",
    "https://twitter.com/teslarati\n",
    "https://twitter.com/dummy_tesla\n",
    "https://twitter.com/dummy_2_tesla\n",
    "'''\n",
    "pattern = 'https:[\\S]+' # todo: type your regex here\n",
    "\n",
    "re.findall(pattern, text)"
   ]
  },
  {
   "cell_type": "code",
   "execution_count": 11,
   "id": "ec7a7e69",
   "metadata": {},
   "outputs": [
    {
     "data": {
      "text/plain": [
       "['elonmusk', 'teslarati', 'dummy_tesla', 'dummy_2_tesla']"
      ]
     },
     "execution_count": 11,
     "metadata": {},
     "output_type": "execute_result"
    }
   ],
   "source": [
    "text = '''\n",
    "Follow our leader Elon musk on twitter here: https://twitter.com/elonmusk, more information \n",
    "on Tesla's products can be found at https://www.tesla.com/. Also here are leading influencers \n",
    "for tesla related news,\n",
    "https://twitter.com/teslarati\n",
    "https://twitter.com/dummy_tesla\n",
    "https://twitter.com/dummy_2_tesla\n",
    "'''\n",
    "# pattern = 'https://twitter\\.com/([a-zA-Z0-9_]+)' # todo: type your regex here\n",
    "pattern = 'https://twitter\\.com/(\\w+)' # todo: type your regex here\n",
    "\n",
    "\n",
    "re.findall(pattern, text)"
   ]
  },
  {
   "cell_type": "markdown",
   "id": "fdfa547d",
   "metadata": {},
   "source": [
    "2. Extract Concentration Risk Types. It will be a text that appears after \"Concentration Risk:\", In below example, your regex should extract these two strings\n",
    "\n",
    "(1) Credit Risk\n",
    "\n",
    "(2) Supply Rish"
   ]
  },
  {
   "cell_type": "code",
   "execution_count": 12,
   "id": "7f5d921d",
   "metadata": {},
   "outputs": [
    {
     "data": {
      "text/plain": [
       "['Credit Risk', 'Supply Risk']"
      ]
     },
     "execution_count": 12,
     "metadata": {},
     "output_type": "execute_result"
    }
   ],
   "source": [
    "text = '''\n",
    "Concentration of Risk: Credit Risk\n",
    "Financial instruments that potentially subject us to a concentration of credit risk consist of cash, cash equivalents, marketable securities,\n",
    "restricted cash, accounts receivable, convertible note hedges, and interest rate swaps. Our cash balances are primarily invested in money market funds\n",
    "or on deposit at high credit quality financial institutions in the U.S. These deposits are typically in excess of insured limits. As of September 30, 2021\n",
    "and December 31, 2020, no entity represented 10% or more of our total accounts receivable balance. The risk of concentration for our convertible note\n",
    "hedges and interest rate swaps is mitigated by transacting with several highly-rated multinational banks.\n",
    "Concentration of Risk: Supply Risk\n",
    "We are dependent on our suppliers, including single source suppliers, and the inability of these suppliers to deliver necessary components of our\n",
    "products in a timely manner at prices, quality levels and volumes acceptable to us, or our inability to efficiently manage these components from these\n",
    "suppliers, could have a material adverse effect on our business, prospects, financial condition and operating results.\n",
    "'''\n",
    "pattern = ': ([^:\\n]*)' # todo: type your regex here\n",
    "\n",
    "re.findall(pattern, text)"
   ]
  },
  {
   "cell_type": "markdown",
   "id": "516300d4",
   "metadata": {},
   "source": [
    "3. Companies in europe reports their financial numbers of semi annual basis and you can have a document like this. To exatract quarterly and semin annual period you can use a regex as shown below\n",
    "\n",
    "Hint: you need to use (?:) here to match everything enclosed"
   ]
  },
  {
   "cell_type": "code",
   "execution_count": 13,
   "id": "8d2a5a34",
   "metadata": {},
   "outputs": [
    {
     "data": {
      "text/plain": [
       "[('2021 Q1', '$4.85'), ('2021 S1', '$8')]"
      ]
     },
     "execution_count": 13,
     "metadata": {},
     "output_type": "execute_result"
    }
   ],
   "source": [
    "text = '''\n",
    "Tesla's gross cost of operating lease vehicles in FY2021 Q1 was $4.85 billion.\n",
    "BMW's gross cost of operating vehicles in FY2021 S1 was $8 billion.\n",
    "'''\n",
    "\n",
    "pattern = 'FY(\\d{4} [a-zA-Z][0-9])+[^\\$]+([\\$\\d\\.]+)' # todo: type your regex here\n",
    "matches = re.findall(pattern, text, flags=re.IGNORECASE)\n",
    "matches"
   ]
  },
  {
   "cell_type": "code",
   "execution_count": 14,
   "id": "5145f039",
   "metadata": {},
   "outputs": [
    {
     "data": {
      "text/plain": [
       "['FY2021 Q1', 'FY2021 S1']"
      ]
     },
     "execution_count": 14,
     "metadata": {},
     "output_type": "execute_result"
    }
   ],
   "source": [
    "text = '''\n",
    "Tesla's gross cost of operating lease vehicles in FY2021 Q1 was $4.85 billion.\n",
    "BMW's gross cost of operating vehicles in FY2021 S1 was $8 billion.\n",
    "'''\n",
    "\n",
    "pattern = 'FY\\d{4} (?:Q[1-4]|S[1-4])' # todo: type your regex here\n",
    "matches = re.findall(pattern, text, flags=re.IGNORECASE)\n",
    "matches"
   ]
  },
  {
   "cell_type": "code",
   "execution_count": 15,
   "id": "8f37a601",
   "metadata": {},
   "outputs": [
    {
     "data": {
      "text/plain": [
       "[('2021 Q1 was $4.85', '$4.85'), ('2021 S1 was $8', '$8')]"
      ]
     },
     "execution_count": 15,
     "metadata": {},
     "output_type": "execute_result"
    }
   ],
   "source": [
    "text = '''\n",
    "Tesla's gross cost of operating lease vehicles in FY2021 Q1 was $4.85 billion.\n",
    "BMW's gross cost of operating vehicles in FY2021 S1 was $8 billion.\n",
    "'''\n",
    "\n",
    "pattern = 'FY(\\d{4} (?:Q[1-4]|S[1-4])+[^\\$]+([\\$\\d\\.]+))' # todo: type your regex here\n",
    "matches = re.findall(pattern, text, flags=re.IGNORECASE)\n",
    "matches"
   ]
  },
  {
   "cell_type": "code",
   "execution_count": 16,
   "id": "de9a117e",
   "metadata": {},
   "outputs": [
    {
     "data": {
      "text/plain": [
       "['22', '23', '24', '25']"
      ]
     },
     "execution_count": 16,
     "metadata": {},
     "output_type": "execute_result"
    }
   ],
   "source": [
    "text = '''\n",
    "my name is Talha , 22 years old and Ahsan is 23\n",
    "Mohsin is 24 and Arslan is 25\n",
    "\n",
    "'''\n",
    "\n",
    "pattern = r'\\d{1,3}' # todo: type your regex here\n",
    "matches = re.findall(pattern, text, flags=re.IGNORECASE)\n",
    "matches"
   ]
  },
  {
   "cell_type": "code",
   "execution_count": 17,
   "id": "e987e3ce",
   "metadata": {},
   "outputs": [
    {
     "data": {
      "text/plain": [
       "['Talha',\n",
       " 'years',\n",
       " 'old',\n",
       " 'and',\n",
       " 'Ahsan',\n",
       " 'is',\n",
       " 'Mohsin',\n",
       " 'is',\n",
       " 'and',\n",
       " 'Arslan',\n",
       " 'is']"
      ]
     },
     "execution_count": 17,
     "metadata": {},
     "output_type": "execute_result"
    }
   ],
   "source": [
    "text = '''\n",
    "Talha , 22 years old and Ahsan is 23\n",
    "Mohsin is 24 and Arslan is 25\n",
    "\n",
    "'''\n",
    "\n",
    "pattern = r'[A-Z][a-z]*' # todo: type your regex here\n",
    "matches = re.findall(pattern, text, flags=re.IGNORECASE)\n",
    "matches"
   ]
  },
  {
   "cell_type": "code",
   "execution_count": 18,
   "id": "55b9acfc",
   "metadata": {},
   "outputs": [
    {
     "data": {
      "text/plain": [
       "<re.Match object; span=(0, 6), match='inform'>"
      ]
     },
     "execution_count": 18,
     "metadata": {},
     "output_type": "execute_result"
    }
   ],
   "source": [
    "p = re.search('inform', 'inform me with this latest informatiom')\n",
    "p"
   ]
  },
  {
   "cell_type": "code",
   "execution_count": 19,
   "id": "1d87aa1c",
   "metadata": {},
   "outputs": [
    {
     "data": {
      "text/plain": [
       "['inform', 'inform']"
      ]
     },
     "execution_count": 19,
     "metadata": {},
     "output_type": "execute_result"
    }
   ],
   "source": [
    "re.findall('inform', 'inform me with this latest informatiom')"
   ]
  },
  {
   "cell_type": "code",
   "execution_count": 20,
   "id": "d3607ee0",
   "metadata": {},
   "outputs": [
    {
     "name": "stdout",
     "output_type": "stream",
     "text": [
      "<re.Match object; span=(0, 6), match='inform'>\n",
      "<re.Match object; span=(27, 33), match='inform'>\n"
     ]
    }
   ],
   "source": [
    "str = 'inform me with this latest informatiom'\n",
    "for i in re.finditer('inform', str):\n",
    "    locup = i.span()\n",
    "    print(i)"
   ]
  },
  {
   "cell_type": "code",
   "execution_count": 21,
   "id": "2c6c4fb1",
   "metadata": {},
   "outputs": [
    {
     "data": {
      "text/plain": [
       "['Sat', 'Mat', 'Rat']"
      ]
     },
     "execution_count": 21,
     "metadata": {},
     "output_type": "execute_result"
    }
   ],
   "source": [
    "str = 'Sat, Mat, Rat'\n",
    "\n",
    "re.findall('[SMR]at', str)"
   ]
  },
  {
   "cell_type": "code",
   "execution_count": 22,
   "id": "2deb1fbc",
   "metadata": {},
   "outputs": [
    {
     "data": {
      "text/plain": [
       "['Mat']"
      ]
     },
     "execution_count": 22,
     "metadata": {},
     "output_type": "execute_result"
    }
   ],
   "source": [
    "re.findall('[^SR]at', str)"
   ]
  },
  {
   "cell_type": "code",
   "execution_count": 23,
   "id": "f8e6352f",
   "metadata": {},
   "outputs": [
    {
     "data": {
      "text/plain": [
       "'Sat, Mat, food'"
      ]
     },
     "execution_count": 23,
     "metadata": {},
     "output_type": "execute_result"
    }
   ],
   "source": [
    "s = re.compile('[R]at')\n",
    "s.sub('food', str)"
   ]
  },
  {
   "cell_type": "code",
   "execution_count": 24,
   "id": "1dc050ae",
   "metadata": {},
   "outputs": [],
   "source": [
    "#\\w = a-zA-Z0-9_\n",
    "#\\W = ^a-zA-Z0-9_"
   ]
  },
  {
   "cell_type": "code",
   "execution_count": 25,
   "id": "667a8a83",
   "metadata": {},
   "outputs": [
    {
     "name": "stdout",
     "output_type": "stream",
     "text": [
      "<re.Match object; span=(21, 22), match='a'>\n",
      "<re.Match object; span=(33, 34), match='a'>\n"
     ]
    }
   ],
   "source": [
    "str = 'inform me with this latest informatiom'\n",
    "m = re.compile('a') # ^ use for start word\n",
    "for i in m.finditer(str):\n",
    "    print(i)"
   ]
  },
  {
   "cell_type": "code",
   "execution_count": 26,
   "id": "d79b6f22",
   "metadata": {},
   "outputs": [
    {
     "name": "stdout",
     "output_type": "stream",
     "text": [
      "<re.Match object; span=(20, 22), match='la'>\n",
      "<re.Match object; span=(32, 34), match='ma'>\n"
     ]
    }
   ],
   "source": [
    "m = re.compile('.a') # dot is use for character\n",
    "for i in m.finditer(str):\n",
    "    print(i)"
   ]
  },
  {
   "cell_type": "code",
   "execution_count": 27,
   "id": "a1ab422f",
   "metadata": {},
   "outputs": [
    {
     "name": "stdout",
     "output_type": "stream",
     "text": [
      "<re.Match object; span=(37, 38), match='m'>\n"
     ]
    }
   ],
   "source": [
    "m = re.compile('m$') # match last elements ends , use $ sign\n",
    "for i in m.finditer(str):\n",
    "    \n",
    "    print(i)"
   ]
  },
  {
   "cell_type": "code",
   "execution_count": 28,
   "id": "1f995399",
   "metadata": {},
   "outputs": [
    {
     "data": {
      "text/plain": [
       "\"\\nFollow our leader Elon musk on twitter here: https://twitter.com/elonmusk, more information \\non Tesla's products can be found at https://www.tesla.com/. , ; [] Also here are leading influencers \\nfor tesla related news,\\nhttps://twitter.com/teslarati\\nhttps://twitter.com/dummy_tesla\\nhttps://twitter.com/dummy_2_tesla\\n\""
      ]
     },
     "execution_count": 28,
     "metadata": {},
     "output_type": "execute_result"
    }
   ],
   "source": [
    "text = '''\n",
    "Follow our leader Elon musk on twitter here: https://twitter.com/elonmusk, more information \n",
    "on Tesla's products can be found at https://www.tesla.com/. , ; [] Also here are leading influencers \n",
    "for tesla related news,\n",
    "https://twitter.com/teslarati\n",
    "https://twitter.com/dummy_tesla\n",
    "https://twitter.com/dummy_2_tesla\n",
    "'''\n",
    "text"
   ]
  },
  {
   "cell_type": "code",
   "execution_count": 29,
   "id": "0b75690b",
   "metadata": {},
   "outputs": [
    {
     "data": {
      "text/plain": [
       "['https://twitter.com/elonmusk,',\n",
       " 'https://www.tesla.com/.',\n",
       " 'https://twitter.com/teslarati',\n",
       " 'https://twitter.com/dummy_tesla',\n",
       " 'https://twitter.com/dummy_2_tesla']"
      ]
     },
     "execution_count": 29,
     "metadata": {},
     "output_type": "execute_result"
    }
   ],
   "source": [
    "p = 'https\\S+'\n",
    "re.findall(p, text)"
   ]
  },
  {
   "cell_type": "code",
   "execution_count": 30,
   "id": "f2ede66a",
   "metadata": {},
   "outputs": [
    {
     "data": {
      "text/plain": [
       "\"\\nFollow our leader Elon musk on twitter here:  more information \\non Tesla's products can be found at  , ; [] Also here are leading influencers \\nfor tesla related news,\\n\\n\\n\\n\""
      ]
     },
     "execution_count": 30,
     "metadata": {},
     "output_type": "execute_result"
    }
   ],
   "source": [
    "# remove links\n",
    "text = re.sub(r\"https\\S+\", \"\", text)\n",
    "text"
   ]
  },
  {
   "cell_type": "code",
   "execution_count": 31,
   "id": "36797222",
   "metadata": {},
   "outputs": [
    {
     "data": {
      "text/plain": [
       "' Follow our leader Elon musk on twitter here more information on Tesla s products can be found at Also here are leading influencers for tesla related news '"
      ]
     },
     "execution_count": 31,
     "metadata": {},
     "output_type": "execute_result"
    }
   ],
   "source": [
    "re.sub(\"[^A-Za-z]+\", \" \", text) #\\w"
   ]
  },
  {
   "cell_type": "code",
   "execution_count": 32,
   "id": "9afdbc44",
   "metadata": {},
   "outputs": [
    {
     "data": {
      "text/plain": [
       "' Follow our leader Elon musk on twitter here more information on Tesla s products can be found at Also here are leading influencers for tesla related news '"
      ]
     },
     "execution_count": 32,
     "metadata": {},
     "output_type": "execute_result"
    }
   ],
   "source": [
    "# remove special chars and numbers\n",
    "text = re.sub(\"[^A-Za-z]+\", \" \", text)\n",
    "text"
   ]
  },
  {
   "cell_type": "code",
   "execution_count": 33,
   "id": "b134b99f",
   "metadata": {},
   "outputs": [
    {
     "data": {
      "text/plain": [
       "'Follow our leader Elon musk on twitter here more information on Tesla s products can be found at Also here are leading influencers for tesla related news'"
      ]
     },
     "execution_count": 33,
     "metadata": {},
     "output_type": "execute_result"
    }
   ],
   "source": [
    "re.sub(r'[^\\w\\s]', \"\", text).strip()"
   ]
  },
  {
   "cell_type": "code",
   "execution_count": 60,
   "id": "37ed4588",
   "metadata": {},
   "outputs": [
    {
     "data": {
      "text/plain": [
       "<re.Match object; span=(5, 7), match='is'>"
      ]
     },
     "execution_count": 60,
     "metadata": {},
     "output_type": "execute_result"
    }
   ],
   "source": [
    "a = \"this is a sample\"\n",
    "re.search(r'\\bis\\b', a)"
   ]
  }
 ],
 "metadata": {
  "kernelspec": {
   "display_name": "Python 3 (ipykernel)",
   "language": "python",
   "name": "python3"
  },
  "language_info": {
   "codemirror_mode": {
    "name": "ipython",
    "version": 3
   },
   "file_extension": ".py",
   "mimetype": "text/x-python",
   "name": "python",
   "nbconvert_exporter": "python",
   "pygments_lexer": "ipython3",
   "version": "3.9.7"
  }
 },
 "nbformat": 4,
 "nbformat_minor": 5
}
